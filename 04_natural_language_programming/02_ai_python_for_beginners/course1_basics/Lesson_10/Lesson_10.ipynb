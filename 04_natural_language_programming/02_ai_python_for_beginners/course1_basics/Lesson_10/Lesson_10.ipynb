{
  "cells": [
    {
      "cell_type": "markdown",
      "metadata": {
        "id": "view-in-github",
        "colab_type": "text"
      },
      "source": [
        "<a href=\"https://colab.research.google.com/github/Noorulhuda-Khan/PIAIC_Python_Class1-2/blob/main/04_natural_language_programming/02_ai_python_for_beginners/course1_basics/Lesson_10/Lesson_10.ipynb\" target=\"_parent\"><img src=\"https://colab.research.google.com/assets/colab-badge.svg\" alt=\"Open In Colab\"/></a>"
      ]
    },
    {
      "cell_type": "markdown",
      "id": "de660b8e",
      "metadata": {
        "id": "de660b8e"
      },
      "source": [
        "# Lesson 10: Functions - Actions on Data"
      ]
    },
    {
      "cell_type": "markdown",
      "id": "a3c720f4",
      "metadata": {
        "id": "a3c720f4"
      },
      "source": [
        "First, start by running the command below. This imports some functions, including the `print_llm_response` function you used before, from the `helper_functions` Python file."
      ]
    },
    {
      "cell_type": "markdown",
      "id": "d34927a8",
      "metadata": {
        "id": "d34927a8"
      },
      "source": [
        "### Download helper_function.py\n",
        "* pls set Secrets Variable for Gemini in Collab\n",
        "* `GEMINI_API_KEY`\n",
        "\n",
        "[Get API KEY From Google AI Studio](https://aistudio.google.com/app/apikey)"
      ]
    },
    {
      "cell_type": "code",
      "execution_count": 1,
      "id": "efc90708",
      "metadata": {
        "id": "efc90708",
        "outputId": "40aef582-2dd2-4f53-ae70-221b1d577d21",
        "colab": {
          "base_uri": "https://localhost:8080/"
        }
      },
      "outputs": [
        {
          "output_type": "stream",
          "name": "stdout",
          "text": [
            "  % Total    % Received % Xferd  Average Speed   Time    Time     Time  Current\n",
            "                                 Dload  Upload   Total   Spent    Left  Speed\n",
            "100  3944  100  3944    0     0  13776      0 --:--:-- --:--:-- --:--:-- 13790\n"
          ]
        }
      ],
      "source": [
        "### Download helper_function.py\n",
        "# * Set Secrets Variable for Gemini\n",
        "# * `GEMINI_API_KEY`\n",
        "\n",
        "!curl -o helper_functions.py https://raw.githubusercontent.com/panaversity/learn-cloud-native-modern-ai-python/main/04_natural_language_programming/02_ai_python_for_beginners/course1_basics/Lesson_9/helper_functions.py"
      ]
    },
    {
      "cell_type": "code",
      "execution_count": 2,
      "id": "e7d9dd05",
      "metadata": {
        "id": "e7d9dd05"
      },
      "outputs": [],
      "source": [
        "from helper_functions import *"
      ]
    },
    {
      "cell_type": "markdown",
      "id": "a229ce91",
      "metadata": {
        "id": "a229ce91"
      },
      "source": [
        "In previous lessons, you have used the `print()` function to display values directly to the screen and the `print_llm_response()` function to use an LLM following the instruction you provide as a string. Below, you will print `\"¯\\_(ツ)_/¯\"` and ask the LLM about the capital of France."
      ]
    },
    {
      "cell_type": "code",
      "execution_count": 3,
      "id": "a753314f",
      "metadata": {
        "id": "a753314f",
        "outputId": "e2bdbc53-20f1-4555-c059-ca02669ddfae",
        "colab": {
          "base_uri": "https://localhost:8080/"
        }
      },
      "outputs": [
        {
          "output_type": "stream",
          "name": "stdout",
          "text": [
            "¯\\_(ツ)_/¯\n"
          ]
        }
      ],
      "source": [
        "print(\"¯\\_(ツ)_/¯\")"
      ]
    },
    {
      "cell_type": "code",
      "execution_count": 4,
      "id": "cf25d93a-1d9d-4ba8-bb54-6503acbb1930",
      "metadata": {
        "id": "cf25d93a-1d9d-4ba8-bb54-6503acbb1930",
        "outputId": "c2c80e85-4ad1-4ac4-add2-217d46eaf198",
        "colab": {
          "base_uri": "https://localhost:8080/",
          "height": 52
        }
      },
      "outputs": [
        {
          "output_type": "stream",
          "name": "stdout",
          "text": [
            "Paris\n",
            "\n"
          ]
        }
      ],
      "source": [
        "print_llm_response(\"What is the capital of France?\")"
      ]
    },
    {
      "cell_type": "markdown",
      "id": "52ece8c0",
      "metadata": {
        "id": "52ece8c0"
      },
      "source": [
        "You have also used the `type` function, which gives you the type used in Python for a value or variable you provide. For instance, the type of 17 is `int` (for integer)."
      ]
    },
    {
      "cell_type": "code",
      "execution_count": 5,
      "id": "c81ad492",
      "metadata": {
        "id": "c81ad492",
        "outputId": "518d21f2-4d62-4180-e2d2-679ec2fa925a",
        "colab": {
          "base_uri": "https://localhost:8080/"
        }
      },
      "outputs": [
        {
          "output_type": "execute_result",
          "data": {
            "text/plain": [
              "int"
            ]
          },
          "metadata": {},
          "execution_count": 5
        }
      ],
      "source": [
        "type(17)"
      ]
    },
    {
      "cell_type": "markdown",
      "id": "df1e3c22",
      "metadata": {
        "id": "df1e3c22"
      },
      "source": [
        "In this lesson, you will see more function examples and explore more deeply how functions work."
      ]
    },
    {
      "cell_type": "markdown",
      "id": "17034de4",
      "metadata": {
        "id": "17034de4"
      },
      "source": [
        "## Functions to count, to round, and to do much more"
      ]
    },
    {
      "cell_type": "markdown",
      "id": "76aa246f",
      "metadata": {
        "id": "76aa246f"
      },
      "source": [
        "There are many functions in Python that you can use straight out of the box. For instance, the `len()` function counts the characters in a string. So when you run the code below, you will display (using `print()`) the result of counting (with `len()`) the number of characters in the string `\"Hello World!\"`."
      ]
    },
    {
      "cell_type": "code",
      "execution_count": 7,
      "id": "05f09a2e",
      "metadata": {
        "id": "05f09a2e",
        "outputId": "6fc0d7f0-f180-4e08-b2ef-e17c7d6f764a",
        "colab": {
          "base_uri": "https://localhost:8080/"
        }
      },
      "outputs": [
        {
          "output_type": "stream",
          "name": "stdout",
          "text": [
            "12\n"
          ]
        },
        {
          "output_type": "execute_result",
          "data": {
            "text/plain": [
              "4"
            ]
          },
          "metadata": {},
          "execution_count": 7
        }
      ],
      "source": [
        "print( len(\"Hello World!\") )\n",
        "\n",
        "len(\"1546\")"
      ]
    },
    {
      "cell_type": "markdown",
      "id": "b0987e9f",
      "metadata": {
        "id": "b0987e9f"
      },
      "source": [
        "As another example, you can use `round()` to take a floating point number and round it to the nearest integer. Below, you use `print()` to display the result of rounding (with `round()`) the number `42.17`."
      ]
    },
    {
      "cell_type": "code",
      "source": [
        "# prompt: how to round of print(round(23.895965)) upto two decimal places?\n",
        "\n",
        "print(round(23.895965, 2))"
      ],
      "metadata": {
        "id": "Tpmnci5Wgquh"
      },
      "id": "Tpmnci5Wgquh",
      "execution_count": null,
      "outputs": []
    },
    {
      "cell_type": "code",
      "execution_count": 12,
      "id": "ce418e1a",
      "metadata": {
        "id": "ce418e1a",
        "outputId": "f809c833-8317-48fe-a1c9-6f89676d6d96",
        "colab": {
          "base_uri": "https://localhost:8080/"
        }
      },
      "outputs": [
        {
          "output_type": "stream",
          "name": "stdout",
          "text": [
            "42\n",
            "42.179\n"
          ]
        }
      ],
      "source": [
        "print(round(42.17))\n",
        "print(round(42.1785694,3))\n",
        "\n"
      ]
    },
    {
      "cell_type": "markdown",
      "id": "94a9d309",
      "metadata": {
        "id": "94a9d309"
      },
      "source": [
        "You can save the result from a function using variables in a very similar way to what you have already explored in previous lessons. Below, you save the result from `len(\"Hello World!\")` to the variable `string_length`."
      ]
    },
    {
      "cell_type": "code",
      "execution_count": 14,
      "id": "c4690998",
      "metadata": {
        "id": "c4690998",
        "outputId": "68aabf9a-7843-4086-8b68-f16a184483d3",
        "colab": {
          "base_uri": "https://localhost:8080/"
        }
      },
      "outputs": [
        {
          "output_type": "stream",
          "name": "stdout",
          "text": [
            "12\n",
            "9\n"
          ]
        }
      ],
      "source": [
        "string_length = len(\"Hello World!\")\n",
        "print(string_length)\n",
        "\n",
        "length_string=\"Hello Bro\"\n",
        "print(len(length_string))"
      ]
    },
    {
      "cell_type": "markdown",
      "id": "783e327e",
      "metadata": {
        "id": "783e327e"
      },
      "source": [
        "There are many functions in Python, and you don't have to memorize them all. If you ever need a function to perform a specific task, you can ask the chatbot. Try it now with the suggested prompt here or try your own.\n",
        "\n",
        "<p style=\"background-color:#F5C780; padding:15px\"> 🤖 <b>Use the Chatbot</b>: How can I find the length of a string?\n",
        "</p>"
      ]
    },
    {
      "cell_type": "markdown",
      "id": "90b0fdc4-e01f-425b-af70-755ee52334f2",
      "metadata": {
        "id": "90b0fdc4-e01f-425b-af70-755ee52334f2"
      },
      "source": [
        "## Using functions in AI programs"
      ]
    },
    {
      "cell_type": "markdown",
      "id": "1b0dee8d-14f8-4078-bbc1-ed3e8aafce86",
      "metadata": {
        "id": "1b0dee8d-14f8-4078-bbc1-ed3e8aafce86"
      },
      "source": [
        "Functions can be used alongside variables in AI programs. In the previous lesson, you saw how to create custom instructions (or prompts) for an LLM using variables. In the cell below, you will use variables and the `round()` function to create a prompt that you will use for an LLM with the `get_llm_response()` function. The `get_llm_response()` function is very similar to `print_llm_response()` (which you used before); the main difference is that you get a string as a result instead of just displaying the LLM response. This way, you can store the LLM response in the variable `response`."
      ]
    },
    {
      "cell_type": "code",
      "execution_count": 15,
      "id": "03b730a6",
      "metadata": {
        "id": "03b730a6",
        "outputId": "f3de4116-7ac7-46f4-b73a-d9d18efdeafb",
        "colab": {
          "base_uri": "https://localhost:8080/",
          "height": 121
        }
      },
      "outputs": [
        {
          "output_type": "stream",
          "name": "stdout",
          "text": [
            "Five spuds young Tommy does possess,\n",
            "A humble harvest, none the less.\n",
            "\n",
            "Five tomatoes, Khan's humble prize,\n",
            "A summer bounty, small but wise.\n",
            "\n"
          ]
        }
      ],
      "source": [
        "name = \"Tommy\"\n",
        "potatoes = 4.75\n",
        "prompt = f\"\"\"Write a couplet about my friend {name} who has about {round(potatoes)} potatoes\"\"\"\n",
        "response = get_llm_response(prompt)\n",
        "print(response)\n",
        "\n",
        "\n",
        "sname=\"Khan\"\n",
        "tomatoes = 5.35\n",
        "prompt= f\"\"\"write a couplet about my friend {sname} who has about {round(tomatoes)} tomatoes\"\"\"\n",
        "response= get_llm_response(prompt)\n",
        "print(response)\n",
        "\n",
        "\n",
        "\n"
      ]
    },
    {
      "cell_type": "markdown",
      "id": "25fc5429",
      "metadata": {
        "id": "25fc5429"
      },
      "source": [
        "## Extra practice\n",
        "\n",
        "Try the exercises below to practice the concepts from this lesson. Read the comments in each cell with the instructions for each exercise.\n",
        "\n",
        "<b>Feel free to use the chatbot if you need help.</b>"
      ]
    },
    {
      "cell_type": "code",
      "source": [
        "# prompt: # Enter one of your favorite numbers. Multiply the result by 10 and save it to a variable called 'lucky_number'.\n",
        "# # Print a message saying \"Your lucky number is [lucky_number]!\" ask favorite number from user\n",
        "\n",
        "# Enter one of your favorite numbers. Multiply the result by 10 and save it to a variable called 'lucky_number'.\n",
        "# Print a message saying \"Your lucky number is [lucky_number]!\"\n",
        "\n",
        "favorite_number = int(input(\"Enter your favorite number: \"))\n",
        "lucky_number = favorite_number * 10\n",
        "print(f\"Your lucky number is {lucky_number}!\")"
      ],
      "metadata": {
        "id": "rO-ow3wgtpnb",
        "outputId": "8ce99da5-43ab-46fb-a5c4-c6b5ea65daaf",
        "colab": {
          "base_uri": "https://localhost:8080/"
        }
      },
      "id": "rO-ow3wgtpnb",
      "execution_count": 19,
      "outputs": [
        {
          "output_type": "stream",
          "name": "stdout",
          "text": [
            "Enter your favorite number: 10\n",
            "Your lucky number is 100!\n"
          ]
        }
      ]
    },
    {
      "cell_type": "code",
      "source": [
        "lucky_number= int (input(\"Enter your number: \"))\n",
        "lucky_number *= 10\n",
        "\n",
        "print(f\"\"\"Your Lucky Number is {lucky_number}\"\"\")\n",
        "\n"
      ],
      "metadata": {
        "id": "amUAawQlsSNQ",
        "outputId": "2b341dd0-65d2-4b89-9019-51421f8ea1c7",
        "colab": {
          "base_uri": "https://localhost:8080/"
        }
      },
      "id": "amUAawQlsSNQ",
      "execution_count": 20,
      "outputs": [
        {
          "output_type": "stream",
          "name": "stdout",
          "text": [
            "Enter your number: 1\n",
            "Your Lucky Number is 10\n"
          ]
        }
      ]
    },
    {
      "cell_type": "code",
      "execution_count": null,
      "id": "5c38d622",
      "metadata": {
        "id": "5c38d622"
      },
      "outputs": [],
      "source": [
        "# Enter one of your favorite numbers. Multiply the result by 10 and save it to a variable called 'lucky_number'.\n",
        "# Print a message saying \"Your lucky number is [lucky_number]!\"\n",
        "\n",
        "lucky_number =\n",
        "print(f\"Your lucky number is {}!\")"
      ]
    },
    {
      "cell_type": "code",
      "execution_count": 23,
      "id": "c3f62ddb",
      "metadata": {
        "id": "c3f62ddb",
        "outputId": "6bc59f3b-04b5-4bf4-c7e3-36f5014747b2",
        "colab": {
          "base_uri": "https://localhost:8080/",
          "height": 69
        }
      },
      "outputs": [
        {
          "output_type": "stream",
          "name": "stdout",
          "text": [
            "Golden mane, a king's command,\n",
            "Silence roars, across the land.\n",
            "\n"
          ]
        }
      ],
      "source": [
        "# Use print_llm_response() to print a poem with the specified number of lines. Use the\n",
        "# prompt variable to save your prompt before calling print_llm_response()\n",
        "\n",
        "number_of_lines = 2\n",
        "prompt = f\"\"\"write a poem on lion with {number_of_lines} number of line\"\"\"\n",
        "print_llm_response(prompt)"
      ]
    },
    {
      "cell_type": "code",
      "execution_count": 28,
      "id": "653e6a72",
      "metadata": {
        "id": "653e6a72",
        "outputId": "3626a9a2-1be6-482f-f03e-af2fb96db4a8",
        "colab": {
          "base_uri": "https://localhost:8080/",
          "height": 86
        }
      },
      "outputs": [
        {
          "output_type": "stream",
          "name": "stdout",
          "text": [
            "King of beasts, a golden mane,\n",
            "With eyes of amber, power's reign,\n",
            "A mighty roar, across the plain.\n",
            "\n"
          ]
        }
      ],
      "source": [
        "# Repeat exercise 2, this time using the function get_llm_response(), then print() to print it. This function asks\n",
        "# the LLM for a response, just like print_llm_response, but does not print it. You'll need to save the response to\n",
        "# a variable, then print it out separately.\n",
        "\n",
        "number_of_lines = 3\n",
        "prompt = f\"\"\"write a poem on lion with {number_of_lines} number of line\"\"\"\n",
        "response = get_llm_response(prompt)\n",
        "print(response)"
      ]
    }
  ],
  "metadata": {
    "kernelspec": {
      "display_name": "Python 3 (ipykernel)",
      "language": "python",
      "name": "python3"
    },
    "language_info": {
      "codemirror_mode": {
        "name": "ipython",
        "version": 3
      },
      "file_extension": ".py",
      "mimetype": "text/x-python",
      "name": "python",
      "nbconvert_exporter": "python",
      "pygments_lexer": "ipython3",
      "version": "3.9.19"
    },
    "colab": {
      "provenance": [],
      "include_colab_link": true
    }
  },
  "nbformat": 4,
  "nbformat_minor": 5
}